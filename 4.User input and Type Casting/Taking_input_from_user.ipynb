{
  "cells": [
    {
      "cell_type": "markdown",
      "metadata": {},
      "source": [
        "# User Input in Python\n",
        "\n",
        "![Logo](https://imgs.search.brave.com/U0gQzESGjVx-Ivo1jNEtFcxxCcfB9KUZIYePpd0LBjQ/rs:fit:860:0:0/g:ce/aHR0cHM6Ly9maWxl/cy5yZWFscHl0aG9u/LmNvbS9tZWRpYS9C/YXNpYy1JbnB1dC1P/dXRwdXQtYW5kLVN0/cmluZy1Gb3JtYXR0/aW5nLWluLVB5dGhv/bl9XYXRlcm1hcmtl/ZC42NWJhNWI1MzU4/NDEuanBn)\n",
        "\n",
        "Welcome to the User Input topic in PythonicScripts! This section covers how to take input from users in Python programs, allowing for interactive and dynamic applications.\n",
        "\n",
        "## Getting User Input\n",
        "- In Python, you can use the 'input()' function to get user input from the console. Here's a simple example:\n",
        "  ```python\n",
        "  # Get user input\n",
        "  name = input(\"Enter your name: \")\n",
        "\n",
        "  # Display the input\n",
        "  print(\"Hello,\", name)\n",
        "  ```\n",
        "  - In this example, the 'input()' function prompts the user to enter their name. The entered value is stored in the variable 'name', which is then displayed using the 'print()' function.\n",
        "\n",
        "## Handling User Input\n",
        "- User input is typically in the form of strings. You may need to convert input to other data types as needed. Here's an example of converting input to an integer:\n",
        "  ```python\n",
        "  # Get user input as integer\n",
        "  age = int(input(\"Enter your age: \"))\n",
        "\n",
        "  # Display the input\n",
        "  print(\"You are\", age, \"years old.\"))\n",
        "  ```\n",
        "  - In this code, 'int(input())' converts the user input to an integer before storing it in the age variable.\n",
        "\n",
        "## Handling Multiple Inputs\n",
        "- You can take multiple inputs from the user in a single line using 'input()' and 'split()'. For example:\n",
        "  ```python\n",
        "  # Get multiple inputs\n",
        "  numbers = input(\"Enter numbers separated by space: \")\n",
        "\n",
        "  # Convert input to list of integers\n",
        "  numbers_list = [int(num) for num in numbers.split()]\n",
        "\n",
        "  # Display the input list\n",
        "  print(\"Numbers entered:\", numbers_list)\n",
        "  ```\n",
        "  - In this code, 'input()' reads a line of input containing numbers separated by spaces. 'split()' breaks the input into individual values, which are then converted to integers and stored in a list '(numbers_list)'.\n",
        "\n",
        "# Resources\n",
        "- [Python 'input()' Function Documentation](https://docs.python.org/3/library/functions.html#input)\n",
        "- [Python 'split()' Method Documentation](https://docs.python.org/3/library/stdtypes.html#str.split)"
      ]
    }
  ],
  "metadata": {
    "kernelspec": {
      "display_name": "Python 3",
      "language": "python",
      "name": "python3"
    },
    "language_info": {
      "codemirror_mode": {
        "name": "ipython",
        "version": 3
      },
      "file_extension": ".py",
      "mimetype": "text/x-python",
      "name": "python",
      "nbconvert_exporter": "python",
      "pygments_lexer": "ipython3",
      "version": "3.10.0"
    }
  },
  "nbformat": 4,
  "nbformat_minor": 5
}
